{
 "cells": [
  {
   "cell_type": "code",
   "execution_count": null,
   "metadata": {
    "id": "G_QFaT4LP6I9"
   },
   "outputs": [],
   "source": [
    "import numpy as np\n",
    "import seaborn as sns\n",
    "import warnings\n",
    "import matplotlib.pyplot as plt\n",
    "from mpl_toolkits.mplot3d import Axes3D\n",
    "warnings.filterwarnings(\"ignore\", category = FutureWarning)\n",
    "sns.set(style = \"white\" , color_codes = True)"
   ]
  },
  {
   "cell_type": "code",
   "execution_count": null,
   "metadata": {
    "id": "da7KFBUHP6JD"
   },
   "outputs": [],
   "source": [
    "import pandas as pd\n",
    "dataset = pd.read_csv('Iris.csv')"
   ]
  },
  {
   "cell_type": "code",
   "execution_count": null,
   "metadata": {},
   "outputs": [],
   "source": [
    "dataset"
   ]
  },
  {
   "cell_type": "code",
   "execution_count": null,
   "metadata": {},
   "outputs": [],
   "source": [
    "dataset.head(60)"
   ]
  },
  {
   "cell_type": "code",
   "execution_count": null,
   "metadata": {},
   "outputs": [],
   "source": [
    "dataset[60:90]"
   ]
  },
  {
   "cell_type": "code",
   "execution_count": null,
   "metadata": {
    "colab": {
     "base_uri": "https://localhost:8080/",
     "height": 363
    },
    "id": "vfEHoilVP6JF",
    "outputId": "7f1a7d21-f52f-4034-dfb4-a032fc5eba62"
   },
   "outputs": [],
   "source": [
    "dataset.tail(60)"
   ]
  },
  {
   "cell_type": "code",
   "execution_count": null,
   "metadata": {
    "id": "4U1avna0P6JG"
   },
   "outputs": [],
   "source": [
    "iris_setosa_data = dataset.iloc[0:50 , :]\n",
    "iris_versicolor_data = dataset.iloc[51:100 , :]\n",
    "iris_virginica_data = dataset.iloc[101:150 , :]"
   ]
  },
  {
   "cell_type": "markdown",
   "metadata": {
    "id": "ey13XQFLP6JH"
   },
   "source": [
    "<h1> Mean, Variance, Standard Deviation </h1>"
   ]
  },
  {
   "cell_type": "markdown",
   "metadata": {
    "id": "57PI518NP6JJ"
   },
   "source": [
    "<h2> Mean </h2>"
   ]
  },
  {
   "cell_type": "markdown",
   "metadata": {
    "id": "4DExV-0pP6JJ"
   },
   "source": [
    "Mean is the <b>CENTRAL TENDENCY</b> or the <b> AVERAGE VALUE </b> of a set of given observations. Mathematical defination of mean is :\n",
    "\n",
    "$$\\bar{X} = \\frac{\\sum_{i=1}^{n} x_{i}}{n}$$"
   ]
  },
  {
   "cell_type": "code",
   "execution_count": null,
   "metadata": {
    "colab": {
     "base_uri": "https://localhost:8080/",
     "height": 0
    },
    "id": "nIPl3ez6P6JK",
    "outputId": "775bb22d-248c-46ce-ff9a-dbfde50aab60"
   },
   "outputs": [],
   "source": [
    "print(\"MEANS\")\n",
    "print(np.mean(iris_setosa_data['PetalLengthCm']) , \"--setosa\")\n",
    "print(np.mean(iris_versicolor_data['PetalLengthCm']) , \"--versicolor\")\n",
    "print(np.mean(iris_virginica_data['PetalLengthCm']) , \"--virginica\")"
   ]
  },
  {
   "cell_type": "markdown",
   "metadata": {
    "id": "4E45fm_JP6JL"
   },
   "source": [
    "<h3> Observations </h3>\n",
    "<p><b> MEAN </b> </p>\n",
    "<p> By using the mean we can perform very initial EDA. For example, just by looking at the values of the means of the petal lenght, we can easily tell that <b>Iris Setosa</b> has a much smaller petal length on average when comapre to <b> Iris Versicolor</b> and <b>Iris Virginica</b>. "
   ]
  },
  {
   "cell_type": "code",
   "execution_count": null,
   "metadata": {
    "colab": {
     "base_uri": "https://localhost:8080/",
     "height": 0
    },
    "id": "pCcxkQJjP6JL",
    "outputId": "fd7ab9fb-4f30-4f4f-84f7-cf07528acc20"
   },
   "outputs": [],
   "source": [
    "#Mean with an outlier\n",
    "print(np.mean(np.append(iris_setosa_data['PetalLengthCm'] , 50)))"
   ]
  },
  {
   "cell_type": "markdown",
   "metadata": {
    "id": "m2WjXWQfP6JM"
   },
   "source": [
    "\n",
    "<p> Even after 50 values all say that the petal length of setosa flowers are around 1.464 cm , If there is even a single wrong data, it can shift the mean wildly. </p>\n",
    "\n",
    "<p> These error can happen because of human mistakes or data corruption or any other reasons. Such data points are called as <b>\"OUTLIERS\"</b>."
   ]
  },
  {
   "cell_type": "markdown",
   "metadata": {
    "id": "5J7xbmUPP6JN"
   },
   "source": [
    "<h2>Variance</h2>"
   ]
  },
  {
   "cell_type": "markdown",
   "metadata": {
    "id": "M6yQjU7LP6JN"
   },
   "source": [
    "<p>Variance represents the spread of the given observations. It is the average square distance of the observation from  mean.</p>\n",
    "<p> The formula for the variance of a population is given by : </p>\n",
    "\n",
    "$$s^{2} = \\frac{SS}{N} = \\frac{\\sum (x_{i} - \\bar{x})^{2}}{N}$$\n",
    "\n",
    "<p> Where <ul>\n",
    "    <li>$SS$ is the sum of squared errors</li>\n",
    "    <li>$N$ is the number of observations in the group</li>\n",
    "    <li>$x_i$ is the $i^{th}$ observation in the group</li>\n",
    "    <li>$\\bar{x}$ is the mean of the group </li>\n",
    "    \n",
    "    \n",
    "    \n",
    "        "
   ]
  },
  {
   "cell_type": "code",
   "execution_count": null,
   "metadata": {
    "colab": {
     "base_uri": "https://localhost:8080/",
     "height": 0
    },
    "id": "a-tY_ZOtP6JO",
    "outputId": "582a541c-0066-4451-c83f-2a0d22cf6f75"
   },
   "outputs": [],
   "source": [
    "print(\"VARIANCE\")\n",
    "print(np.var(iris_setosa_data['PetalLengthCm']) , \"--setosa\")\n",
    "print(np.var(iris_versicolor_data['PetalLengthCm']) , \"--versicolor\")\n",
    "print(np.var(iris_virginica_data['PetalLengthCm']) , \"--virginica\")"
   ]
  },
  {
   "cell_type": "code",
   "execution_count": null,
   "metadata": {
    "colab": {
     "base_uri": "https://localhost:8080/",
     "height": 0
    },
    "id": "qZCdk5GrP6JO",
    "outputId": "99d697a5-c2b1-4226-c6d0-11b73a3af91e"
   },
   "outputs": [],
   "source": [
    "#Variance with an outlier\n",
    "print(np.var(np.append(iris_setosa_data['PetalLengthCm'] , 50)))"
   ]
  },
  {
   "cell_type": "markdown",
   "metadata": {
    "id": "5ewcpOCUP6JP"
   },
   "source": [
    "<h2> Standard Deviation </h2>"
   ]
  },
  {
   "cell_type": "code",
   "execution_count": null,
   "metadata": {
    "colab": {
     "base_uri": "https://localhost:8080/",
     "height": 382
    },
    "id": "qgG87vd4P6JP",
    "outputId": "805a9970-c4cb-42d4-d93b-57f724cafc80",
    "scrolled": false
   },
   "outputs": [],
   "source": [
    "sns.FacetGrid(dataset , hue = \"Species\" , height = 5)\\\n",
    ".map(sns.distplot , \"PetalLengthCm\")\\\n",
    ".add_legend()\n",
    "\n",
    "print(\"In the following graph, the standard deviation shows the spread of the graph\")"
   ]
  },
  {
   "cell_type": "markdown",
   "metadata": {
    "id": "IzC08swyP6JP"
   },
   "source": [
    "<p> Standard Deviation represents the average deviation of the observations form the mean value. </p>\n",
    "\n",
    "$$s = \\sqrt{s^{2}} = \\sqrt{\\frac{SS}{N}} = \\sqrt{\\frac{\\sum (x_{i} - \\bar{x})^{2}}{N}}$$\n",
    "\n",
    "<p> Where <ul>\n",
    "    <li>$s^2$ is the variance</li>\n",
    "    <li>$SS$ is the sum of squared errors</li>\n",
    "    <li>$N$ is the number of observations in the group</li>\n",
    "    <li>$x_i$ is the $i^{th}$ observation in the group</li>\n",
    "    <li>$\\bar{x}$ is the mean of the group </li>\n",
    "    "
   ]
  },
  {
   "cell_type": "code",
   "execution_count": null,
   "metadata": {
    "colab": {
     "base_uri": "https://localhost:8080/",
     "height": 0
    },
    "id": "4cTYh6hbP6JQ",
    "outputId": "f7cf2a1e-b3c4-4781-ea32-0316071b20e3"
   },
   "outputs": [],
   "source": [
    "print(\"STANDARD DEVIATION\")\n",
    "print(np.std(iris_setosa_data['PetalLengthCm']) , \"--setosa\")\n",
    "print(np.std(iris_versicolor_data['PetalLengthCm']) , \"--versicolor\")\n",
    "print(np.std(iris_virginica_data['PetalLengthCm']) , \"--virginica\")"
   ]
  },
  {
   "cell_type": "code",
   "execution_count": null,
   "metadata": {
    "colab": {
     "base_uri": "https://localhost:8080/",
     "height": 0
    },
    "id": "_6cU77rJP6JQ",
    "outputId": "a1283459-b645-451b-9c93-4388cc3d0b99"
   },
   "outputs": [],
   "source": [
    "#Standard Deviation with an outlier\n",
    "print(np.std(np.append(iris_setosa_data['PetalLengthCm'] , 50)))"
   ]
  },
  {
   "cell_type": "markdown",
   "metadata": {
    "id": "ZcUjmOh5P6JQ"
   },
   "source": []
  },
  {
   "cell_type": "markdown",
   "metadata": {
    "id": "vY8jNJllP6JR"
   },
   "source": [
    "<h1> Median, Percentiles, Quantiles, IQR</h1>"
   ]
  },
  {
   "cell_type": "markdown",
   "metadata": {
    "id": "hCKK08NvP6JR"
   },
   "source": [
    "<h3> Median </h3>\n",
    "<p> Median is the statistical measure that determines the middle value of a dataset listed in ascending order. This measure divides the lower half from the upper half of the dataset. </p>"
   ]
  },
  {
   "cell_type": "code",
   "execution_count": null,
   "metadata": {
    "colab": {
     "base_uri": "https://localhost:8080/",
     "height": 0
    },
    "id": "0yhjZNm5P6JR",
    "outputId": "5d969538-caa2-4277-853b-08d0a008fa7b"
   },
   "outputs": [],
   "source": [
    "print(\"MEDIANS\")\n",
    "print(np.median(iris_setosa_data['PetalLengthCm']) , \"--setosa\")\n",
    "print(np.median(iris_versicolor_data['PetalLengthCm']) , \"--versicolor\")\n",
    "print(np.median(iris_virginica_data['PetalLengthCm']) , \"--virginica\")"
   ]
  },
  {
   "cell_type": "markdown",
   "metadata": {
    "id": "bYr5MpxvP6JT"
   },
   "source": [
    "<h2> Box-Plots</h2>"
   ]
  },
  {
   "cell_type": "markdown",
   "metadata": {
    "id": "-QT8l9tJP6JU"
   },
   "source": []
  },
  {
   "cell_type": "code",
   "execution_count": null,
   "metadata": {
    "colab": {
     "base_uri": "https://localhost:8080/",
     "height": 285
    },
    "id": "Je5Yeyg3P6JU",
    "outputId": "ce7a9a4c-1744-4a85-85c0-2310138b6fb9"
   },
   "outputs": [],
   "source": [
    "sns.boxplot(x='Species' , y='PetalLengthCm' , data = dataset)\n",
    "plt.show()"
   ]
  },
  {
   "cell_type": "markdown",
   "metadata": {
    "id": "2VMW_XNjP6JU"
   },
   "source": [
    "\n"
   ]
  },
  {
   "cell_type": "markdown",
   "metadata": {
    "id": "fnBXsxC5P6JW"
   },
   "source": [
    "<h2> Multivariate Probability Density</h2>"
   ]
  },
  {
   "cell_type": "code",
   "execution_count": null,
   "metadata": {
    "colab": {
     "base_uri": "https://localhost:8080/",
     "height": 437
    },
    "id": "Q6-i3ZzCP6JW",
    "outputId": "6c1a9902-3a24-44dd-e7e8-0a4c540c4692"
   },
   "outputs": [],
   "source": [
    "sns.jointplot(x = \"PetalLengthCm\" , y = \"PetalWidthCm\" , data=iris_setosa_data )\n",
    "plt.show()"
   ]
  },
  {
   "cell_type": "markdown",
   "metadata": {
    "id": "BAekQF7-P6JW"
   },
   "source": [
    "<h2> Multivariate Probabiliy Density using Contour Plots </h2>"
   ]
  },
  {
   "cell_type": "code",
   "execution_count": null,
   "metadata": {
    "colab": {
     "base_uri": "https://localhost:8080/",
     "height": 437
    },
    "id": "eAjsxLOzP6JX",
    "outputId": "e64faba6-d832-46ae-d16f-d438cf89c3f7"
   },
   "outputs": [],
   "source": [
    "sns.jointplot(x = \"PetalLengthCm\" , y = \"PetalWidthCm\" , data=iris_setosa_data  , kind = \"kde\" , cmap = \"Blues\" , shade=True)\n",
    "plt.show()"
   ]
  },
  {
   "cell_type": "code",
   "execution_count": null,
   "metadata": {
    "colab": {
     "base_uri": "https://localhost:8080/",
     "height": 892
    },
    "id": "pjuBi04PP6JX",
    "outputId": "4931ad1d-5c08-49fd-f408-e97f875908bd"
   },
   "outputs": [],
   "source": [
    "#Multivariate density plots for the entire dataset\n",
    "sns.jointplot(data=dataset, x=\"PetalLengthCm\", y=\"PetalWidthCm\", hue=\"Species\")\n",
    "print(\"without contours\")\n",
    "plt.show()\n",
    "sns.jointplot(data=dataset, x=\"PetalLengthCm\", y=\"PetalWidthCm\", hue=\"Species\" ,kind='kde' , shade=True)\n",
    "print(\"with contours\")\n",
    "plt.show()"
   ]
  },
  {
   "cell_type": "markdown",
   "metadata": {
    "id": "fW_nvienP6JX"
   },
   "source": [
    "<h3> Observations </h3>\n",
    "<ul>\n",
    "    <li>This gives us a clear idea about the joint distribution of multiple variables and the marginal distributions of individual variables. These plots can be used to get information abouthow two features are dependent on each other throughout the space. </li>\n",
    "    <li> This gives a more precise idea about the density of the feautres when compared to a scattered plot. This is really useful when there are many overlapping features. </li>"
   ]
  },
  {
   "cell_type": "markdown",
   "metadata": {
    "id": "QxBoHX1IP6JX"
   },
   "source": [
    "<h2> Correlation </h2>"
   ]
  },
  {
   "cell_type": "code",
   "execution_count": null,
   "metadata": {
    "colab": {
     "base_uri": "https://localhost:8080/",
     "height": 905
    },
    "id": "nm0osdgaP6JX",
    "outputId": "f5459620-e25e-44ca-95d8-c9d5fe11fb5e"
   },
   "outputs": [],
   "source": [
    "#For iris setosa\n",
    "sns.scatterplot(iris_setosa_data['PetalLengthCm'] , iris_setosa_data['PetalWidthCm'])\n",
    "plt.show()\n",
    "sns.scatterplot(iris_setosa_data['SepalLengthCm'] , iris_setosa_data['SepalWidthCm'])\n",
    "plt.show()\n",
    "no_id = iris_setosa_data.drop(['Id'] , axis=1)\n",
    "sns.heatmap(no_id.corr() , annot = True)"
   ]
  },
  {
   "cell_type": "code",
   "execution_count": null,
   "metadata": {
    "colab": {
     "base_uri": "https://localhost:8080/",
     "height": 902
    },
    "id": "Q0i4_u4WP6JY",
    "outputId": "a61fe958-083f-4818-ea05-bc0d6d3f0951"
   },
   "outputs": [],
   "source": [
    "#For iris versicolor\n",
    "sns.scatterplot(iris_versicolor_data['PetalLengthCm'] , iris_versicolor_data['PetalWidthCm'])\n",
    "plt.show()\n",
    "sns.scatterplot(iris_versicolor_data['SepalLengthCm'] , iris_versicolor_data['SepalWidthCm'])\n",
    "plt.show()\n",
    "no_id = iris_versicolor_data.drop(['Id'] , axis=1)\n",
    "sns.heatmap(no_id.corr() , annot = True)"
   ]
  },
  {
   "cell_type": "code",
   "execution_count": null,
   "metadata": {
    "colab": {
     "base_uri": "https://localhost:8080/",
     "height": 902
    },
    "id": "aa86Cus8P6JY",
    "outputId": "f5afd392-f486-4044-a3c0-6da9dd2b937c"
   },
   "outputs": [],
   "source": [
    "#for iris virginica\n",
    "sns.scatterplot(dataset['PetalLengthCm'] , dataset['PetalWidthCm'])\n",
    "plt.show()\n",
    "sns.scatterplot(dataset['SepalWidthCm'] , dataset['PetalLengthCm'])\n",
    "plt.show()\n",
    "no_id = dataset.drop(['Id'] , axis=1)\n",
    "sns.heatmap(no_id.corr() , annot = True)"
   ]
  },
  {
   "cell_type": "markdown",
   "metadata": {
    "id": "t2-70PDPRx8X"
   },
   "source": [
    "# Using Decision Tree Classifier"
   ]
  },
  {
   "cell_type": "code",
   "execution_count": null,
   "metadata": {
    "colab": {
     "base_uri": "https://localhost:8080/",
     "height": 0
    },
    "id": "OrsRUgvdP6JZ",
    "outputId": "4bd3ef64-06df-4768-ae59-a64dc4fb137f"
   },
   "outputs": [],
   "source": [
    "# Import Library for splitting data and accuracy\n",
    "from sklearn.metrics import accuracy_score\n",
    "from sklearn.model_selection import train_test_split\n",
    "\n",
    "# Extracting Attributes / Features\n",
    "X = dataset.iloc[:,:-1]\n",
    "\n",
    "# Extracting Target / Class Labels\n",
    "y = dataset.iloc[:,-1]\n",
    "\n",
    "# Creating Train and Test datasets\n",
    "X_train, X_test, y_train, y_test = train_test_split(X,y, random_state = 50, test_size = 0.25)\n",
    "\n",
    "# Creating Decision Tree Classifier\n",
    "from sklearn.tree import DecisionTreeClassifier\n",
    "clf = DecisionTreeClassifier()\n",
    "clf.fit(X_train,y_train)\n",
    "\n",
    "# Predict Accuracy Score\n",
    "y_pred = clf.predict(X_test)\n",
    "print(\"Train data accuracy:\",accuracy_score(y_true = y_train, y_pred=clf.predict(X_train)))\n",
    "print(\"Test data accuracy:\",accuracy_score(y_true = y_test, y_pred=y_pred))"
   ]
  }
 ],
 "metadata": {
  "colab": {
   "provenance": []
  },
  "kernelspec": {
   "display_name": "Python 3 (ipykernel)",
   "language": "python",
   "name": "python3"
  },
  "language_info": {
   "codemirror_mode": {
    "name": "ipython",
    "version": 3
   },
   "file_extension": ".py",
   "mimetype": "text/x-python",
   "name": "python",
   "nbconvert_exporter": "python",
   "pygments_lexer": "ipython3",
   "version": "3.11.0 (main, Oct 24 2022, 18:26:48) [MSC v.1933 64 bit (AMD64)]"
  },
  "vscode": {
   "interpreter": {
    "hash": "cd313d84c1cc9b12d1822bec361dea7ff9ce3cc1ceca138f3c60a7279b4a3ba5"
   }
  }
 },
 "nbformat": 4,
 "nbformat_minor": 1
}
